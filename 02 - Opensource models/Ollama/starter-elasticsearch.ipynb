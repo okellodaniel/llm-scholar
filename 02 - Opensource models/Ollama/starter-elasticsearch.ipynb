{
 "cells": [
  {
   "cell_type": "code",
   "execution_count": 4,
   "id": "d99ca456",
   "metadata": {},
   "outputs": [
    {
     "name": "stdout",
     "output_type": "stream",
     "text": [
      "Requirement already satisfied: openai in /usr/local/python/3.10.13/lib/python3.10/site-packages (1.35.10)\n",
      "Requirement already satisfied: elasticsearch in /usr/local/python/3.10.13/lib/python3.10/site-packages (8.14.0)\n",
      "Requirement already satisfied: tqdm in /usr/local/python/3.10.13/lib/python3.10/site-packages (4.66.4)\n",
      "Requirement already satisfied: ipywidgets in /usr/local/python/3.10.13/lib/python3.10/site-packages (8.1.3)\n",
      "Requirement already satisfied: anyio<5,>=3.5.0 in /home/codespace/.local/lib/python3.10/site-packages (from openai) (4.4.0)\n",
      "Requirement already satisfied: distro<2,>=1.7.0 in /usr/local/python/3.10.13/lib/python3.10/site-packages (from openai) (1.9.0)\n",
      "Requirement already satisfied: httpx<1,>=0.23.0 in /home/codespace/.local/lib/python3.10/site-packages (from openai) (0.27.0)\n",
      "Requirement already satisfied: pydantic<3,>=1.9.0 in /usr/local/python/3.10.13/lib/python3.10/site-packages (from openai) (2.8.1)\n",
      "Requirement already satisfied: sniffio in /home/codespace/.local/lib/python3.10/site-packages (from openai) (1.3.1)\n",
      "Requirement already satisfied: typing-extensions<5,>=4.7 in /home/codespace/.local/lib/python3.10/site-packages (from openai) (4.12.0)\n",
      "Requirement already satisfied: elastic-transport<9,>=8.13 in /usr/local/python/3.10.13/lib/python3.10/site-packages (from elasticsearch) (8.13.1)\n",
      "Requirement already satisfied: comm>=0.1.3 in /home/codespace/.local/lib/python3.10/site-packages (from ipywidgets) (0.2.2)\n",
      "Requirement already satisfied: ipython>=6.1.0 in /home/codespace/.local/lib/python3.10/site-packages (from ipywidgets) (8.24.0)\n",
      "Requirement already satisfied: traitlets>=4.3.1 in /home/codespace/.local/lib/python3.10/site-packages (from ipywidgets) (5.14.3)\n",
      "Requirement already satisfied: widgetsnbextension~=4.0.11 in /usr/local/python/3.10.13/lib/python3.10/site-packages (from ipywidgets) (4.0.11)\n",
      "Requirement already satisfied: jupyterlab-widgets~=3.0.11 in /usr/local/python/3.10.13/lib/python3.10/site-packages (from ipywidgets) (3.0.11)\n",
      "Requirement already satisfied: idna>=2.8 in /home/codespace/.local/lib/python3.10/site-packages (from anyio<5,>=3.5.0->openai) (3.7)\n",
      "Requirement already satisfied: exceptiongroup>=1.0.2 in /home/codespace/.local/lib/python3.10/site-packages (from anyio<5,>=3.5.0->openai) (1.2.1)\n",
      "Requirement already satisfied: urllib3<3,>=1.26.2 in /usr/local/python/3.10.13/lib/python3.10/site-packages (from elastic-transport<9,>=8.13->elasticsearch) (2.0.7)\n",
      "Requirement already satisfied: certifi in /home/codespace/.local/lib/python3.10/site-packages (from elastic-transport<9,>=8.13->elasticsearch) (2024.2.2)\n",
      "Requirement already satisfied: httpcore==1.* in /home/codespace/.local/lib/python3.10/site-packages (from httpx<1,>=0.23.0->openai) (1.0.5)\n",
      "Requirement already satisfied: h11<0.15,>=0.13 in /home/codespace/.local/lib/python3.10/site-packages (from httpcore==1.*->httpx<1,>=0.23.0->openai) (0.14.0)\n",
      "Requirement already satisfied: decorator in /home/codespace/.local/lib/python3.10/site-packages (from ipython>=6.1.0->ipywidgets) (5.1.1)\n",
      "Requirement already satisfied: jedi>=0.16 in /home/codespace/.local/lib/python3.10/site-packages (from ipython>=6.1.0->ipywidgets) (0.19.1)\n",
      "Requirement already satisfied: matplotlib-inline in /home/codespace/.local/lib/python3.10/site-packages (from ipython>=6.1.0->ipywidgets) (0.1.7)\n",
      "Requirement already satisfied: prompt-toolkit<3.1.0,>=3.0.41 in /home/codespace/.local/lib/python3.10/site-packages (from ipython>=6.1.0->ipywidgets) (3.0.45)\n",
      "Requirement already satisfied: pygments>=2.4.0 in /home/codespace/.local/lib/python3.10/site-packages (from ipython>=6.1.0->ipywidgets) (2.18.0)\n",
      "Requirement already satisfied: stack-data in /home/codespace/.local/lib/python3.10/site-packages (from ipython>=6.1.0->ipywidgets) (0.6.3)\n",
      "Requirement already satisfied: pexpect>4.3 in /home/codespace/.local/lib/python3.10/site-packages (from ipython>=6.1.0->ipywidgets) (4.9.0)\n",
      "Requirement already satisfied: annotated-types>=0.4.0 in /usr/local/python/3.10.13/lib/python3.10/site-packages (from pydantic<3,>=1.9.0->openai) (0.7.0)\n",
      "Requirement already satisfied: pydantic-core==2.20.1 in /usr/local/python/3.10.13/lib/python3.10/site-packages (from pydantic<3,>=1.9.0->openai) (2.20.1)\n",
      "Requirement already satisfied: parso<0.9.0,>=0.8.3 in /home/codespace/.local/lib/python3.10/site-packages (from jedi>=0.16->ipython>=6.1.0->ipywidgets) (0.8.4)\n",
      "Requirement already satisfied: ptyprocess>=0.5 in /home/codespace/.local/lib/python3.10/site-packages (from pexpect>4.3->ipython>=6.1.0->ipywidgets) (0.7.0)\n",
      "Requirement already satisfied: wcwidth in /home/codespace/.local/lib/python3.10/site-packages (from prompt-toolkit<3.1.0,>=3.0.41->ipython>=6.1.0->ipywidgets) (0.2.13)\n",
      "Requirement already satisfied: executing>=1.2.0 in /home/codespace/.local/lib/python3.10/site-packages (from stack-data->ipython>=6.1.0->ipywidgets) (2.0.1)\n",
      "Requirement already satisfied: asttokens>=2.1.0 in /home/codespace/.local/lib/python3.10/site-packages (from stack-data->ipython>=6.1.0->ipywidgets) (2.4.1)\n",
      "Requirement already satisfied: pure-eval in /home/codespace/.local/lib/python3.10/site-packages (from stack-data->ipython>=6.1.0->ipywidgets) (0.2.2)\n",
      "Requirement already satisfied: six>=1.12.0 in /home/codespace/.local/lib/python3.10/site-packages (from asttokens>=2.1.0->stack-data->ipython>=6.1.0->ipywidgets) (1.16.0)\n",
      "\n",
      "\u001b[1m[\u001b[0m\u001b[34;49mnotice\u001b[0m\u001b[1;39;49m]\u001b[0m\u001b[39;49m A new release of pip is available: \u001b[0m\u001b[31;49m24.0\u001b[0m\u001b[39;49m -> \u001b[0m\u001b[32;49m24.1.1\u001b[0m\n",
      "\u001b[1m[\u001b[0m\u001b[34;49mnotice\u001b[0m\u001b[1;39;49m]\u001b[0m\u001b[39;49m To update, run: \u001b[0m\u001b[32;49mpython3 -m pip install --upgrade pip\u001b[0m\n"
     ]
    }
   ],
   "source": [
    "!pip install openai elasticsearch tqdm ipywidgets"
   ]
  },
  {
   "cell_type": "code",
   "execution_count": 1,
   "id": "3ac947de-effd-4b61-8792-a6d7a133f347",
   "metadata": {},
   "outputs": [],
   "source": [
    "import json\n",
    "import minsearch\n",
    "\n",
    "with open(\"documents.json\",\"r\") as docs:\n",
    "    documents_raw = json.load(docs)\n",
    "\n",
    "documents = []\n",
    "\n",
    "for course in documents_raw:\n",
    "    course_name = course['course']\n",
    "\n",
    "    for doc in course['documents']:\n",
    "        doc['course'] = course_name\n",
    "        documents.append(doc)\n",
    "\n",
    "# index = minsearch.Index(\n",
    "#     text_fields=[\"question\", \"text\", \"section\"],\n",
    "#     keyword_fields=[\"course\"]\n",
    "# )\n",
    "\n",
    "# index.fit(documents)"
   ]
  },
  {
   "cell_type": "code",
   "execution_count": 2,
   "id": "8f087272-b44d-4738-9ea2-175ec63a058b",
   "metadata": {},
   "outputs": [],
   "source": [
    "from elasticsearch import Elasticsearch\n",
    "from tqdm.auto import tqdm "
   ]
  },
  {
   "cell_type": "code",
   "execution_count": 3,
   "id": "740dcac3",
   "metadata": {},
   "outputs": [
    {
     "data": {
      "text/plain": [
       "True"
      ]
     },
     "execution_count": 3,
     "metadata": {},
     "output_type": "execute_result"
    }
   ],
   "source": [
    "es_client = Elasticsearch('http://localhost:9200')\n",
    "es_client.ping()"
   ]
  },
  {
   "cell_type": "code",
   "execution_count": 5,
   "id": "63df198e",
   "metadata": {},
   "outputs": [],
   "source": [
    "def elastic_search_settings(index_name):\n",
    "    index_settings = {\n",
    "        \"settings\":{\n",
    "            \"number_of_shards\":1,\n",
    "            \"number_of_replicas\":0\n",
    "        },\n",
    "        \"mappings\":{\n",
    "            \"properties\":{\n",
    "                \"text\":{\"type\":\"text\"},\n",
    "                \"section\":{\"type\":\"text\"},\n",
    "                \"question\":{\"type\":\"text\"},\n",
    "                \"course\":{\"type\":\"keyword\"},\n",
    "            }\n",
    "        }\n",
    "    }\n",
    "\n",
    "    return es_client.indices.create(index=index_name,body=index_settings)"
   ]
  },
  {
   "cell_type": "code",
   "execution_count": 7,
   "id": "1e265d43",
   "metadata": {},
   "outputs": [],
   "source": [
    "index_name = \"course-questions\"\n",
    "\n",
    "# elastic_search_settings(index_name)"
   ]
  },
  {
   "cell_type": "code",
   "execution_count": 9,
   "id": "1353f04d",
   "metadata": {},
   "outputs": [
    {
     "data": {
      "application/vnd.jupyter.widget-view+json": {
       "model_id": "8b9fdeefd28743d5b44b447468767743",
       "version_major": 2,
       "version_minor": 0
      },
      "text/plain": [
       "  0%|          | 0/948 [00:00<?, ?it/s]"
      ]
     },
     "metadata": {},
     "output_type": "display_data"
    }
   ],
   "source": [
    "for doc in tqdm(documents):\n",
    "    es_client.index(index=index_name,document=doc)"
   ]
  },
  {
   "cell_type": "code",
   "execution_count": 9,
   "id": "ca056cb2",
   "metadata": {},
   "outputs": [],
   "source": [
    "def elastic_query(query):\n",
    "    search_query = {\n",
    "        \"size\":10,\n",
    "        \"query\":{\n",
    "            \"bool\":{\n",
    "                \"must\":{\n",
    "                    \"multi_match\":{\n",
    "                        \"query\":query,\n",
    "                        \"fields\":[\"question^3\",\"text\",\"section\"],\n",
    "                        \"type\":\"best_fields\"\n",
    "                    }\n",
    "                },\n",
    "                \"filter\":{\n",
    "                    \"term\":{\n",
    "                        \"course\":\"data-engineering-zoomcamp\"\n",
    "                    }\n",
    "                }\n",
    "            }\n",
    "        }\n",
    "    }\n",
    "    response = es_client.search(index=index_name,body=search_query)\n",
    "    \n",
    "    results = []\n",
    "\n",
    "    for doc in response['hits']['hits']:\n",
    "        results.append(doc['_source']) \n",
    "\n",
    "    return results"
   ]
  },
  {
   "cell_type": "code",
   "execution_count": 10,
   "id": "90eb4a75",
   "metadata": {},
   "outputs": [],
   "source": [
    "from openai import OpenAI\n",
    "\n",
    "client = OpenAI(\n",
    "    base_url='http://localhost:11434/v1/',\n",
    "    # required but ignored\n",
    "    api_key='ollama',\n",
    ")"
   ]
  },
  {
   "cell_type": "code",
   "execution_count": 11,
   "id": "742ab881-499a-4675-83c4-2013ea1377b9",
   "metadata": {},
   "outputs": [],
   "source": [
    "def build_prompt(query, search_results):\n",
    "    prompt_template = \"\"\"\n",
    "You're a course teaching assistant. Answer the QUESTION based on the CONTEXT from the FAQ database.\n",
    "Use only the facts from the CONTEXT when answering the QUESTION. If fact not present, return NONE\n",
    "\n",
    "QUESTION: {question}\n",
    "\n",
    "CONTEXT: \n",
    "{context}\n",
    "\"\"\".strip()\n",
    "\n",
    "    context = \"\"\n",
    "    \n",
    "    for doc in search_results:\n",
    "        context = context + f\"section: {doc['section']}\\nquestion: {doc['question']}\\nanswer: {doc['text']}\\n\\n\"\n",
    "    \n",
    "    prompt = prompt_template.format(question=query, context=context).strip()\n",
    "    return prompt\n",
    "\n",
    "def llm(prompt):\n",
    "    response = client.chat.completions.create(\n",
    "        model='phi3',\n",
    "        messages=[{\"role\": \"user\", \"content\": prompt}]\n",
    "    )\n",
    "    \n",
    "    return response.choices[0].message.content"
   ]
  },
  {
   "cell_type": "code",
   "execution_count": 12,
   "id": "fe8bff3e-b672-42be-866b-f2d9bb217106",
   "metadata": {},
   "outputs": [],
   "source": [
    "def rag(query):\n",
    "    search_results = elastic_query(query)\n",
    "    prompt = build_prompt(query, search_results)\n",
    "    print(prompt[0])\n",
    "    answer = llm(prompt)\n",
    "    return answer"
   ]
  },
  {
   "cell_type": "code",
   "execution_count": 13,
   "id": "46457332",
   "metadata": {},
   "outputs": [
    {
     "name": "stdout",
     "output_type": "stream",
     "text": [
      "Y\n"
     ]
    },
    {
     "data": {
      "text/plain": [
       "' To start a Docker container using the context provided in Module 1: Docker and Terraform FAQs, follow these steps to execute within their system?\\n\\nFirstly, run this command with appropriate settings for your operating environment as detailed below:\\n\\n```bash\\nwinpty docker run -it --rm \\\\\\n--name course-docker-container \\\\\\n-p 80:80 \\\\\\npython:3.9 \\\\\\n/bin/true; exit \\\\$?\\n```\\nThis command does the following, explained in steps:\\n1. `winpty`: This is a workaround for Windows and WSL environments where Docker commands sometimes fail to work correctly due to terminal limitations on line length or output buffering issues with bash-like shells like Git Bash or Cygwin’s sh.exe (not needed if you\\'re working within an environment that handles these, such as the ones described in your answer).\\n2. `docker run`: This is starting a new Docker container from image named \"python:3.9\". Replace with any appropriate base image for this course-specific instructions where necessary or adaptable to different requirements if using another dockerfile/image based on Python 3.8, as suggested in your answer context without the `--rm` flag which cleans up a stopped running container by default after execution completes and should not be needed here explicitly unless stated otherwise for cleanup reasons\\n3. `-it`: Runs interactively with TTY allocated to stdin/stdout (for interactive sessions)\\n4. `--rm`: Ensures the Docker container is removed upon exit, which helps maintain a cleaner workspace if unnecessary processes remain running in your machine after execution of commands within this specific context; remove or adjust as per need for persistent containers necessary to perform certain tasks like data analysis on large datasets (not required here)\\n5. `--name course-docker-container`: Gives the container an identifiable name, which is useful if you plan to interact with it in some way or run multiple instances of this same application; replace \"course-docker-container\" as per your environment needs and/or user preferences\\n6. `-p 80:80`: Exposes port 80 on the host (your machine) so that services running inside can be accessed via HTTP, which is essential if you have a web service within this container; adapt or omit depending upon whether such capability will indeed be required by your workflow\\n7. `python:3.9` : Specifies Python 3.9 as the base image for development and testing purposes—ensure compatibility with course materials & instructions (not needed in standard execution, unless using a custom Dockerfile)\\n8. `/bin/true`: Runs an always true command to prevent container exit on EOF but replace this line with your actual runnable script or application if required; remove it as per specific instruction needs \\n9. `exit \\\\$?` : The `$?` is the Unix convention that holds process exit codes, here used to return from within a bash terminal which should not be needed in Docker contexts and can lead to issues like container restarting (can likely omit unless specifically requested by course instructions)'"
      ]
     },
     "execution_count": 13,
     "metadata": {},
     "output_type": "execute_result"
    }
   ],
   "source": [
    "rag(\"How do I start a docker container?\")"
   ]
  },
  {
   "cell_type": "code",
   "execution_count": 14,
   "id": "4ec2b773",
   "metadata": {},
   "outputs": [
    {
     "name": "stdout",
     "output_type": "stream",
     "text": [
      " To start a Docker container using the context provided in Module 1: Docker and Terraform FAQs, follow these steps to execute within their system?\n",
      "\n",
      "Firstly, run this command with appropriate settings for your operating environment as detailed below:\n",
      "\n",
      "```bash\n",
      "winpty docker run -it --rm \\\n",
      "--name course-docker-container \\\n",
      "-p 80:80 \\\n",
      "python:3.9 \\\n",
      "/bin/true; exit \\$?\n",
      "```\n",
      "This command does the following, explained in steps:\n",
      "1. `winpty`: This is a workaround for Windows and WSL environments where Docker commands sometimes fail to work correctly due to terminal limitations on line length or output buffering issues with bash-like shells like Git Bash or Cygwin’s sh.exe (not needed if you're working within an environment that handles these, such as the ones described in your answer).\n",
      "2. `docker run`: This is starting a new Docker container from image named \"python:3.9\". Replace with any appropriate base image for this course-specific instructions where necessary or adaptable to different requirements if using another dockerfile/image based on Python 3.8, as suggested in your answer context without the `--rm` flag which cleans up a stopped running container by default after execution completes and should not be needed here explicitly unless stated otherwise for cleanup reasons\n",
      "3. `-it`: Runs interactively with TTY allocated to stdin/stdout (for interactive sessions)\n",
      "4. `--rm`: Ensures the Docker container is removed upon exit, which helps maintain a cleaner workspace if unnecessary processes remain running in your machine after execution of commands within this specific context; remove or adjust as per need for persistent containers necessary to perform certain tasks like data analysis on large datasets (not required here)\n",
      "5. `--name course-docker-container`: Gives the container an identifiable name, which is useful if you plan to interact with it in some way or run multiple instances of this same application; replace \"course-docker-container\" as per your environment needs and/or user preferences\n",
      "6. `-p 80:80`: Exposes port 80 on the host (your machine) so that services running inside can be accessed via HTTP, which is essential if you have a web service within this container; adapt or omit depending upon whether such capability will indeed be required by your workflow\n",
      "7. `python:3.9` : Specifies Python 3.9 as the base image for development and testing purposes—ensure compatibility with course materials & instructions (not needed in standard execution, unless using a custom Dockerfile)\n",
      "8. `/bin/true`: Runs an always true command to prevent container exit on EOF but replace this line with your actual runnable script or application if required; remove it as per specific instruction needs \n",
      "9. `exit \\$?` : The `$?` is the Unix convention that holds process exit codes, here used to return from within a bash terminal which should not be needed in Docker contexts and can lead to issues like container restarting (can likely omit unless specifically requested by course instructions)\n"
     ]
    }
   ],
   "source": [
    "print(_)"
   ]
  }
 ],
 "metadata": {
  "kernelspec": {
   "display_name": "Python 3 (ipykernel)",
   "language": "python",
   "name": "python3"
  },
  "language_info": {
   "codemirror_mode": {
    "name": "ipython",
    "version": 3
   },
   "file_extension": ".py",
   "mimetype": "text/x-python",
   "name": "python",
   "nbconvert_exporter": "python",
   "pygments_lexer": "ipython3",
   "version": "3.10.13"
  }
 },
 "nbformat": 4,
 "nbformat_minor": 5
}
