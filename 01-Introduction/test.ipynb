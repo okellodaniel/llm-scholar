{
 "cells": [
  {
   "cell_type": "markdown",
   "id": "b423aa31",
   "metadata": {},
   "source": [
    "_packages installed_\n",
    "- tqdm\n",
    "- notebook\n",
    "- openai\n",
    "- Elasticsearch\n",
    "- scikitlearn\n",
    "- pandas\n",
    "\n",
    "**Open AI key** -> export OPEN_API_KEY=\"\" in the terminal."
   ]
  },
  {
   "cell_type": "code",
   "execution_count": null,
   "id": "f4235d0d-e4a9-42b8-96a8-84058a662c1e",
   "metadata": {},
   "outputs": [],
   "source": [
    "from openai import OpenAI\n",
    "import os"
   ]
  },
  {
   "cell_type": "code",
   "execution_count": null,
   "id": "142d0711-00ac-47e8-b6d8-12287dcaeb88",
   "metadata": {},
   "outputs": [],
   "source": [
    "os.environ"
   ]
  },
  {
   "cell_type": "code",
   "execution_count": null,
   "id": "50556550-0ac1-4b93-9ffa-576ce08837d6",
   "metadata": {},
   "outputs": [],
   "source": [
    "api_key = os.environ['OPENAPI_AI_KEY']\n",
    "api_key"
   ]
  },
  {
   "cell_type": "code",
   "execution_count": null,
   "id": "4a9a8c3a-bfff-4b19-8673-ba68081fed41",
   "metadata": {},
   "outputs": [],
   "source": [
    "client = OpenAI(api_key=api_key)"
   ]
  },
  {
   "cell_type": "code",
   "execution_count": null,
   "id": "0f28d574-2fe0-4f72-84a1-431a1cf17e29",
   "metadata": {},
   "outputs": [],
   "source": [
    "response = client.chat.completions.create(\n",
    "    model = 'gpt-3.5-turbo-16k',\n",
    "    messages=[{\n",
    "        \"role\":\"user\",\n",
    "        \"content\":\"Which models should I use for chatgpt\"\n",
    "    }]\n",
    ")"
   ]
  },
  {
   "cell_type": "code",
   "execution_count": null,
   "id": "87bf7a61-1411-4288-bc39-052959d78d21",
   "metadata": {},
   "outputs": [],
   "source": [
    "response.choices[0].message.content"
   ]
  }
 ],
 "metadata": {
  "kernelspec": {
   "display_name": "Python 3 (ipykernel)",
   "language": "python",
   "name": "python3"
  },
  "language_info": {
   "codemirror_mode": {
    "name": "ipython",
    "version": 3
   },
   "file_extension": ".py",
   "mimetype": "text/x-python",
   "name": "python",
   "nbconvert_exporter": "python",
   "pygments_lexer": "ipython3",
   "version": "3.10.13"
  }
 },
 "nbformat": 4,
 "nbformat_minor": 5
}
